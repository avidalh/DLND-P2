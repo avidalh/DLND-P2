{
 "cells": [
  {
   "cell_type": "markdown",
   "metadata": {
    "collapsed": true,
    "deletable": true,
    "editable": true
   },
   "source": [
    "# Image Classification\n",
    "In this project, you'll classify images from the [CIFAR-10 dataset](https://www.cs.toronto.edu/~kriz/cifar.html).  The dataset consists of airplanes, dogs, cats, and other objects. You'll preprocess the images, then train a convolutional neural network on all the samples. The images need to be normalized and the labels need to be one-hot encoded.  You'll get to apply what you learned and build a convolutional, max pooling, dropout, and fully connected layers.  At the end, you'll get to see your neural network's predictions on the sample images.\n",
    "## Get the Data\n",
    "Run the following cell to download the [CIFAR-10 dataset for python](https://www.cs.toronto.edu/~kriz/cifar-10-python.tar.gz)."
   ]
  },
  {
   "cell_type": "code",
   "execution_count": 1,
   "metadata": {
    "collapsed": false,
    "deletable": true,
    "editable": true
   },
   "outputs": [
    {
     "name": "stdout",
     "output_type": "stream",
     "text": [
      "All files found!\n"
     ]
    }
   ],
   "source": [
    "\"\"\"\n",
    "DON'T MODIFY ANYTHING IN THIS CELL THAT IS BELOW THIS LINE\n",
    "\"\"\"\n",
    "from urllib.request import urlretrieve\n",
    "from os.path import isfile, isdir\n",
    "from tqdm import tqdm\n",
    "import problem_unittests as tests\n",
    "import tarfile\n",
    "\n",
    "cifar10_dataset_folder_path = 'cifar-10-batches-py'\n",
    "\n",
    "class DLProgress(tqdm):\n",
    "    last_block = 0\n",
    "\n",
    "    def hook(self, block_num=1, block_size=1, total_size=None):\n",
    "        self.total = total_size\n",
    "        self.update((block_num - self.last_block) * block_size)\n",
    "        self.last_block = block_num\n",
    "\n",
    "if not isfile('cifar-10-python.tar.gz'):\n",
    "    with DLProgress(unit='B', unit_scale=True, miniters=1, desc='CIFAR-10 Dataset') as pbar:\n",
    "        urlretrieve(\n",
    "            'https://www.cs.toronto.edu/~kriz/cifar-10-python.tar.gz',\n",
    "            'cifar-10-python.tar.gz',\n",
    "            pbar.hook)\n",
    "\n",
    "if not isdir(cifar10_dataset_folder_path):\n",
    "    with tarfile.open('cifar-10-python.tar.gz') as tar:\n",
    "        tar.extractall()\n",
    "        tar.close()\n",
    "\n",
    "\n",
    "tests.test_folder_path(cifar10_dataset_folder_path)"
   ]
  },
  {
   "cell_type": "markdown",
   "metadata": {
    "deletable": true,
    "editable": true
   },
   "source": [
    "## Explore the Data\n",
    "The dataset is broken into batches to prevent your machine from running out of memory.  The CIFAR-10 dataset consists of 5 batches, named `data_batch_1`, `data_batch_2`, etc.. Each batch contains the labels and images that are one of the following:\n",
    "* airplane\n",
    "* automobile\n",
    "* bird\n",
    "* cat\n",
    "* deer\n",
    "* dog\n",
    "* frog\n",
    "* horse\n",
    "* ship\n",
    "* truck\n",
    "\n",
    "Understanding a dataset is part of making predictions on the data.  Play around with the code cell below by changing the `batch_id` and `sample_id`. The `batch_id` is the id for a batch (1-5). The `sample_id` is the id for a image and label pair in the batch.\n",
    "\n",
    "Ask yourself \"What are all possible labels?\", \"What is the range of values for the image data?\", \"Are the labels in order or random?\".  Answers to questions like these will help you preprocess the data and end up with better predictions."
   ]
  },
  {
   "cell_type": "code",
   "execution_count": 2,
   "metadata": {
    "collapsed": false,
    "deletable": true,
    "editable": true
   },
   "outputs": [
    {
     "name": "stdout",
     "output_type": "stream",
     "text": [
      "\n",
      "Stats of batch 5:\n",
      "Samples: 10000\n",
      "Label Counts: {0: 1014, 1: 1014, 2: 952, 3: 1016, 4: 997, 5: 1025, 6: 980, 7: 977, 8: 1003, 9: 1022}\n",
      "First 20 Labels: [1, 8, 5, 1, 5, 7, 4, 3, 8, 2, 7, 2, 0, 1, 5, 9, 6, 2, 0, 8]\n",
      "\n",
      "Example of Image 55:\n",
      "Image - Min Value: 17 Max Value: 255\n",
      "Image - Shape: (32, 32, 3)\n",
      "Label - Label Id: 7 Name: horse\n"
     ]
    },
    {
     "data": {
      "image/png": "[encoded data removed]",
      "text/plain": [
       "<matplotlib.figure.Figure at 0x7f4898d49e80>"
      ]
     },
     "metadata": {
      "image/png": {
       "height": 250,
       "width": 253
      }
     },
     "output_type": "display_data"
    }
   ],
   "source": [
    "%matplotlib inline\n",
    "%config InlineBackend.figure_format = 'retina'\n",
    "\n",
    "import helper\n",
    "import numpy as np\n",
    "\n",
    "# Explore the dataset\n",
    "batch_id = 5\n",
    "sample_id = 55\n",
    "helper.display_stats(cifar10_dataset_folder_path, batch_id, sample_id)"
   ]
  },
  {
   "cell_type": "markdown",
   "metadata": {
    "deletable": true,
    "editable": true
   },
   "source": [
    "## Implement Preprocess Functions\n",
    "### Normalize\n",
    "In the cell below, implement the `normalize` function to take in image data, `x`, and return it as a normalized Numpy array. The values should be in the range of 0 to 1, inclusive.  The return object should be the same shape as `x`."
   ]
  },
  {
   "cell_type": "code",
   "execution_count": 3,
   "metadata": {
    "collapsed": false,
    "deletable": true,
    "editable": true
   },
   "outputs": [
    {
     "name": "stdout",
     "output_type": "stream",
     "text": [
      "Tests Passed\n"
     ]
    }
   ],
   "source": [
    "def normalize(x):\n",
    "    \"\"\"\n",
    "    Normalize a list of sample image data in the range of 0 to 1\n",
    "    : x: List of image data.  The image shape is (32, 32, 3)\n",
    "    : return: Numpy array of normalize data\n",
    "    \"\"\"\n",
    "    # TODO: Implement Function\n",
    "    a = 0.0\n",
    "    b = 1.0\n",
    "    min_value = np.min(x)\n",
    "    max_value = np.max(x)\n",
    "    return a + (((x - min_value)*(b - a))/(max_value - min_value))\n",
    "\n",
    "# ------------------------------------------------------------------------------\n",
    "\n",
    "\n",
    "\"\"\"\n",
    "DON'T MODIFY ANYTHING IN THIS CELL THAT IS BELOW THIS LINE\n",
    "\"\"\"\n",
    "tests.test_normalize(normalize)"
   ]
  },
  {
   "cell_type": "markdown",
   "metadata": {
    "deletable": true,
    "editable": true
   },
   "source": [
    "### One-hot encode\n",
    "Just like the previous code cell, you'll be implementing a function for preprocessing.  This time, you'll implement the `one_hot_encode` function. The input, `x`, are a list of labels.  Implement the function to return the list of labels as One-Hot encoded Numpy array.  The possible values for labels are 0 to 9. The one-hot encoding function should return the same encoding for each value between each call to `one_hot_encode`.  Make sure to save the map of encodings outside the function.\n",
    "\n",
    "Hint: Don't reinvent the wheel."
   ]
  },
  {
   "cell_type": "code",
   "execution_count": 4,
   "metadata": {
    "collapsed": false,
    "deletable": true,
    "editable": true
   },
   "outputs": [
    {
     "name": "stdout",
     "output_type": "stream",
     "text": [
      "Tests Passed\n"
     ]
    }
   ],
   "source": [
    "from sklearn import preprocessing\n",
    "\n",
    "\n",
    "lb = preprocessing.LabelBinarizer()\n",
    "lb.fit([0,1,2,3,4,5,6,7,8,9])\n",
    "\n",
    "\n",
    "def one_hot_encode(x):\n",
    "    \"\"\"\n",
    "    One hot encode a list of sample labels. Return a one-hot encoded vector for each label.\n",
    "    : x: List of sample Labels\n",
    "    : return: Numpy array of one-hot encoded labels\n",
    "    \"\"\"\n",
    "    # TODO: Implement Function\n",
    "    \n",
    "    return lb.transform(x)\n",
    "\n",
    "# ------------------------------------------------------------------------------\n",
    "\n",
    "\n",
    "\"\"\"\n",
    "DON'T MODIFY ANYTHING IN THIS CELL THAT IS BELOW THIS LINE\n",
    "\"\"\"\n",
    "tests.test_one_hot_encode(one_hot_encode)"
   ]
  },
  {
   "cell_type": "markdown",
   "metadata": {
    "deletable": true,
    "editable": true
   },
   "source": [
    "### Randomize Data\n",
    "As you saw from exploring the data above, the order of the samples are randomized.  It doesn't hurt to randomize it again, but you don't need to for this dataset."
   ]
  },
  {
   "cell_type": "markdown",
   "metadata": {
    "deletable": true,
    "editable": true
   },
   "source": [
    "## Preprocess all the data and save it\n",
    "Running the code cell below will preprocess all the CIFAR-10 data and save it to file. The code below also uses 10% of the training data for validation."
   ]
  },
  {
   "cell_type": "code",
   "execution_count": 5,
   "metadata": {
    "collapsed": false,
    "deletable": true,
    "editable": true
   },
   "outputs": [],
   "source": [
    "\"\"\"\n",
    "DON'T MODIFY ANYTHING IN THIS CELL\n",
    "\"\"\"\n",
    "# Preprocess Training, Validation, and Testing Data\n",
    "helper.preprocess_and_save_data(cifar10_dataset_folder_path, normalize, one_hot_encode)"
   ]
  },
  {
   "cell_type": "markdown",
   "metadata": {
    "deletable": true,
    "editable": true
   },
   "source": [
    "# Check Point\n",
    "This is your first checkpoint.  If you ever decide to come back to this notebook or have to restart the notebook, you can start from here.  The preprocessed data has been saved to disk."
   ]
  },
  {
   "cell_type": "code",
   "execution_count": 6,
   "metadata": {
    "collapsed": true,
    "deletable": true,
    "editable": true
   },
   "outputs": [],
   "source": [
    "\"\"\"\n",
    "DON'T MODIFY ANYTHING IN THIS CELL\n",
    "\"\"\"\n",
    "import pickle\n",
    "import problem_unittests as tests\n",
    "import helper\n",
    "\n",
    "# Load the Preprocessed Validation data\n",
    "valid_features, valid_labels = pickle.load(open('preprocess_validation.p', mode='rb'))"
   ]
  },
  {
   "cell_type": "markdown",
   "metadata": {
    "deletable": true,
    "editable": true
   },
   "source": [
    "## Build the network\n",
    "For the neural network, you'll build each layer into a function.  Most of the code you've seen has been outside of functions. To test your code more thoroughly, we require that you put each layer in a function.  This allows us to give you better feedback and test for simple mistakes using our unittests before you submit your project.\n",
    "\n",
    ">**Note:** If you're finding it hard to dedicate enough time for this course each week, we've provided a small shortcut to this part of the project. In the next couple of problems, you'll have the option to use classes from the [TensorFlow Layers](https://www.tensorflow.org/api_docs/python/tf/layers) or [TensorFlow Layers (contrib)](https://www.tensorflow.org/api_guides/python/contrib.layers) packages to build each layer, except the layers you build in the \"Convolutional and Max Pooling Layer\" section.  TF Layers is similar to Keras's and TFLearn's abstraction to layers, so it's easy to pickup.\n",
    "\n",
    ">However, if you would like to get the most out of this course, try to solve all the problems _without_ using anything from the TF Layers packages. You **can** still use classes from other packages that happen to have the same name as ones you find in TF Layers! For example, instead of using the TF Layers version of the `conv2d` class, [tf.layers.conv2d](https://www.tensorflow.org/api_docs/python/tf/layers/conv2d), you would want to use the TF Neural Network version of `conv2d`, [tf.nn.conv2d](https://www.tensorflow.org/api_docs/python/tf/nn/conv2d). \n",
    "\n",
    "Let's begin!\n",
    "\n",
    "### Input\n",
    "The neural network needs to read the image data, one-hot encoded labels, and dropout keep probability. Implement the following functions\n",
    "* Implement `neural_net_image_input`\n",
    " * Return a [TF Placeholder](https://www.tensorflow.org/api_docs/python/tf/placeholder)\n",
    " * Set the shape using `image_shape` with batch size set to `None`.\n",
    " * Name the TensorFlow placeholder \"x\" using the TensorFlow `name` parameter in the [TF Placeholder](https://www.tensorflow.org/api_docs/python/tf/placeholder).\n",
    "* Implement `neural_net_label_input`\n",
    " * Return a [TF Placeholder](https://www.tensorflow.org/api_docs/python/tf/placeholder)\n",
    " * Set the shape using `n_classes` with batch size set to `None`.\n",
    " * Name the TensorFlow placeholder \"y\" using the TensorFlow `name` parameter in the [TF Placeholder](https://www.tensorflow.org/api_docs/python/tf/placeholder).\n",
    "* Implement `neural_net_keep_prob_input`\n",
    " * Return a [TF Placeholder](https://www.tensorflow.org/api_docs/python/tf/placeholder) for dropout keep probability.\n",
    " * Name the TensorFlow placeholder \"keep_prob\" using the TensorFlow `name` parameter in the [TF Placeholder](https://www.tensorflow.org/api_docs/python/tf/placeholder).\n",
    "\n",
    "These names will be used at the end of the project to load your saved model.\n",
    "\n",
    "Note: `None` for shapes in TensorFlow allow for a dynamic size."
   ]
  },
  {
   "cell_type": "code",
   "execution_count": 7,
   "metadata": {
    "collapsed": false,
    "deletable": true,
    "editable": true
   },
   "outputs": [
    {
     "name": "stdout",
     "output_type": "stream",
     "text": [
      "Image Input Tests Passed.\n",
      "Label Input Tests Passed.\n",
      "Keep Prob Tests Passed.\n"
     ]
    }
   ],
   "source": [
    "import tensorflow as tf\n",
    "\n",
    "def neural_net_image_input(image_shape):\n",
    "    \"\"\"\n",
    "    Return a Tensor for a bach of image input\n",
    "    : image_shape: Shape of the images\n",
    "    : return: Tensor for image input.\n",
    "    \"\"\"\n",
    "    # TODO: Implement Function\n",
    "    return tf.placeholder(tf.float32, shape=[None, image_shape[0], image_shape[1], image_shape[2]], name='x')\n",
    "\n",
    "\n",
    "def neural_net_label_input(n_classes):\n",
    "    \"\"\"\n",
    "    Return a Tensor for a batch of label input\n",
    "    : n_classes: Number of classes\n",
    "    : return: Tensor for label input.\n",
    "    \"\"\"\n",
    "    # TODO: Implement Function\n",
    "    return tf.placeholder(tf.float32, shape=[None, n_classes], name='y')\n",
    "\n",
    "\n",
    "def neural_net_keep_prob_input():\n",
    "    \"\"\"\n",
    "    Return a Tensor for keep probability\n",
    "    : return: Tensor for keep probability.\n",
    "    \"\"\"\n",
    "    # TODO: Implement Function\n",
    "    return tf.placeholder(tf.float32, shape=None, name='keep_prob')\n",
    "\n",
    "# ------------------------------------------------------------------------------\n",
    "\n",
    "\n",
    "\"\"\"\n",
    "DON'T MODIFY ANYTHING IN THIS CELL THAT IS BELOW THIS LINE\n",
    "\"\"\"\n",
    "tf.reset_default_graph()\n",
    "tests.test_nn_image_inputs(neural_net_image_input)\n",
    "tests.test_nn_label_inputs(neural_net_label_input)\n",
    "tests.test_nn_keep_prob_inputs(neural_net_keep_prob_input)"
   ]
  },
  {
   "cell_type": "markdown",
   "metadata": {
    "deletable": true,
    "editable": true
   },
   "source": [
    "### Convolution and Max Pooling Layer\n",
    "Convolution layers have a lot of success with images. For this code cell, you should implement the function `conv2d_maxpool` to apply convolution then max pooling:\n",
    "* Create the weight and bias using `conv_ksize`, `conv_num_outputs` and the shape of `x_tensor`.\n",
    "* Apply a convolution to `x_tensor` using weight and `conv_strides`.\n",
    " * We recommend you use same padding, but you're welcome to use any padding.\n",
    "* Add bias\n",
    "* Add a nonlinear activation to the convolution.\n",
    "* Apply Max Pooling using `pool_ksize` and `pool_strides`.\n",
    " * We recommend you use same padding, but you're welcome to use any padding.\n",
    "\n",
    "**Note:** You **can't** use [TensorFlow Layers](https://www.tensorflow.org/api_docs/python/tf/layers) or [TensorFlow Layers (contrib)](https://www.tensorflow.org/api_guides/python/contrib.layers) for **this** layer, but you can still use TensorFlow's [Neural Network](https://www.tensorflow.org/api_docs/python/tf/nn) package. You may still use the shortcut option for all the **other** layers."
   ]
  },
  {
   "cell_type": "code",
   "execution_count": 33,
   "metadata": {
    "collapsed": false,
    "deletable": true,
    "editable": true
   },
   "outputs": [
    {
     "name": "stdout",
     "output_type": "stream",
     "text": [
      "Tests Passed\n"
     ]
    }
   ],
   "source": [
    "def conv2d_maxpool(x_tensor, conv_num_outputs, conv_ksize, conv_strides, pool_ksize, pool_strides):\n",
    "    \"\"\"\n",
    "    Apply convolution then max pooling to x_tensor\n",
    "    :param x_tensor: TensorFlow Tensor\n",
    "    :param conv_num_outputs: Number of outputs for the convolutional layer\n",
    "    :param conv_strides: Stride 2-D Tuple for convolution\n",
    "    :param pool_ksize: kernal size 2-D Tuple for pool\n",
    "    :param pool_strides: Stride 2-D Tuple for pool\n",
    "    : return: A tensor that represents convolution and max pooling of x_tensor\n",
    "    \"\"\"\n",
    "    # TODO: Implement Function\n",
    "    \n",
    "    color_channels = x_tensor.get_shape().as_list()[3]\n",
    "    conv_k_size_x = conv_ksize[0]\n",
    "    conv_k_size_y = conv_ksize[1]\n",
    "    \n",
    "    # Weights and bias\n",
    "    W = tf.Variable(tf.truncated_normal([conv_k_size_y, conv_k_size_x, color_channels, conv_num_outputs], stddev=0.05))\n",
    "    b = tf.Variable(tf.zeros(conv_num_outputs))\n",
    "    \n",
    "    # strides\n",
    "    c_strides = [1, conv_strides[0], conv_strides[1], 1]\n",
    "    p_strides = [1, pool_strides[0], pool_strides[1], 1]\n",
    "    \n",
    "    # kernel sizes\n",
    "    pool_k_size_x = pool_ksize[0]\n",
    "    pool_k_size_y = pool_ksize[1]\n",
    "    p_k_size = [1, pool_k_size_x, pool_k_size_y, 1]\n",
    "    \n",
    "    padding = 'SAME'\n",
    "    \n",
    "    # convolution\n",
    "    conv = tf.nn.conv2d(x_tensor, W, c_strides, padding)\n",
    "    \n",
    "    # add bias\n",
    "    conv = tf.nn.bias_add(conv, b)\n",
    "    \n",
    "    # non linear activation\n",
    "    conv = tf.nn.relu(conv)\n",
    "    \n",
    "    return tf.nn.max_pool(conv, p_k_size, p_strides, padding)\n",
    "\n",
    "# ------------------------------------------------------------------------------\n",
    "\n",
    "\n",
    "\"\"\"\n",
    "DON'T MODIFY ANYTHING IN THIS CELL THAT IS BELOW THIS LINE\n",
    "\"\"\"\n",
    "tests.test_con_pool(conv2d_maxpool)"
   ]
  },
  {
   "cell_type": "markdown",
   "metadata": {
    "deletable": true,
    "editable": true
   },
   "source": [
    "### Flatten Layer\n",
    "Implement the `flatten` function to change the dimension of `x_tensor` from a 4-D tensor to a 2-D tensor.  The output should be the shape (*Batch Size*, *Flattened Image Size*). Shortcut option: you can use classes from the [TensorFlow Layers](https://www.tensorflow.org/api_docs/python/tf/layers) or [TensorFlow Layers (contrib)](https://www.tensorflow.org/api_guides/python/contrib.layers) packages for this layer. For more of a challenge, only use other TensorFlow packages."
   ]
  },
  {
   "cell_type": "code",
   "execution_count": 34,
   "metadata": {
    "collapsed": false,
    "deletable": true,
    "editable": true
   },
   "outputs": [
    {
     "name": "stdout",
     "output_type": "stream",
     "text": [
      "Tests Passed\n"
     ]
    }
   ],
   "source": [
    "def flatten(x_tensor):\n",
    "    \"\"\"\n",
    "    Flatten x_tensor to (Batch Size, Flattened Image Size)\n",
    "    : x_tensor: A tensor of size (Batch Size, ...), where ... are the image dimensions.\n",
    "    : return: A tensor of size (Batch Size, Flattened Image Size).\n",
    "    \"\"\"\n",
    "    # TODO: Implement Function\n",
    "    return tf.contrib.layers.flatten(x_tensor)\n",
    "\n",
    "# ------------------------------------------------------------------------------\n",
    "\n",
    "\n",
    "\"\"\"\n",
    "DON'T MODIFY ANYTHING IN THIS CELL THAT IS BELOW THIS LINE\n",
    "\"\"\"\n",
    "tests.test_flatten(flatten)"
   ]
  },
  {
   "cell_type": "markdown",
   "metadata": {
    "deletable": true,
    "editable": true
   },
   "source": [
    "### Fully-Connected Layer\n",
    "Implement the `fully_conn` function to apply a fully connected layer to `x_tensor` with the shape (*Batch Size*, *num_outputs*). Shortcut option: you can use classes from the [TensorFlow Layers](https://www.tensorflow.org/api_docs/python/tf/layers) or [TensorFlow Layers (contrib)](https://www.tensorflow.org/api_guides/python/contrib.layers) packages for this layer. For more of a challenge, only use other TensorFlow packages."
   ]
  },
  {
   "cell_type": "code",
   "execution_count": 35,
   "metadata": {
    "collapsed": false,
    "deletable": true,
    "editable": true
   },
   "outputs": [
    {
     "name": "stdout",
     "output_type": "stream",
     "text": [
      "Tests Passed\n"
     ]
    }
   ],
   "source": [
    "def fully_conn(x_tensor, num_outputs):\n",
    "    \"\"\"\n",
    "    Apply a fully connected layer to x_tensor using weight and bias\n",
    "    : x_tensor: A 2-D tensor where the first dimension is batch size.\n",
    "    : num_outputs: The number of output that the new tensor should be.\n",
    "    : return: A 2-D tensor where the second dimension is num_outputs.\n",
    "    \"\"\"\n",
    "    # TODO: Implement Function\n",
    "    return tf.contrib.layers.fully_connected(x_tensor, num_outputs, activation_fn=tf.nn.relu)\n",
    "\n",
    "# ------------------------------------------------------------------------------\n",
    "\n",
    "\n",
    "\"\"\"\n",
    "DON'T MODIFY ANYTHING IN THIS CELL THAT IS BELOW THIS LINE\n",
    "\"\"\"\n",
    "tests.test_fully_conn(fully_conn)"
   ]
  },
  {
   "cell_type": "markdown",
   "metadata": {
    "deletable": true,
    "editable": true
   },
   "source": [
    "### Output Layer\n",
    "Implement the `output` function to apply a fully connected layer to `x_tensor` with the shape (*Batch Size*, *num_outputs*). Shortcut option: you can use classes from the [TensorFlow Layers](https://www.tensorflow.org/api_docs/python/tf/layers) or [TensorFlow Layers (contrib)](https://www.tensorflow.org/api_guides/python/contrib.layers) packages for this layer. For more of a challenge, only use other TensorFlow packages.\n",
    "\n",
    "**Note:** Activation, softmax, or cross entropy should **not** be applied to this."
   ]
  },
  {
   "cell_type": "code",
   "execution_count": 36,
   "metadata": {
    "collapsed": false,
    "deletable": true,
    "editable": true
   },
   "outputs": [
    {
     "name": "stdout",
     "output_type": "stream",
     "text": [
      "Tests Passed\n"
     ]
    }
   ],
   "source": [
    "def output(x_tensor, num_outputs):\n",
    "    \"\"\"\n",
    "    Apply a output layer to x_tensor using weight and bias\n",
    "    : x_tensor: A 2-D tensor where the first dimension is batch size.\n",
    "    : num_outputs: The number of output that the new tensor should be.\n",
    "    : return: A 2-D tensor where the second dimension is num_outputs.\n",
    "    \"\"\"\n",
    "    # TODO: Implement Function\n",
    "    return tf.contrib.layers.fully_connected(x_tensor, num_outputs)\n",
    "\n",
    "# ------------------------------------------------------------------------------\n",
    "\n",
    "\n",
    "\"\"\"\n",
    "DON'T MODIFY ANYTHING IN THIS CELL THAT IS BELOW THIS LINE\n",
    "\"\"\"\n",
    "tests.test_output(output)"
   ]
  },
  {
   "cell_type": "markdown",
   "metadata": {
    "deletable": true,
    "editable": true
   },
   "source": [
    "### Create Convolutional Model\n",
    "Implement the function `conv_net` to create a convolutional neural network model. The function takes in a batch of images, `x`, and outputs logits.  Use the layers you created above to create this model:\n",
    "\n",
    "* Apply 1, 2, or 3 Convolution and Max Pool layers\n",
    "* Apply a Flatten Layer\n",
    "* Apply 1, 2, or 3 Fully Connected Layers\n",
    "* Apply an Output Layer\n",
    "* Return the output\n",
    "* Apply [TensorFlow's Dropout](https://www.tensorflow.org/api_docs/python/tf/nn/dropout) to one or more layers in the model using `keep_prob`. "
   ]
  },
  {
   "cell_type": "code",
   "execution_count": 37,
   "metadata": {
    "collapsed": false,
    "deletable": true,
    "editable": true,
    "scrolled": false
   },
   "outputs": [
    {
     "name": "stdout",
     "output_type": "stream",
     "text": [
      "Neural Network Built!\n"
     ]
    }
   ],
   "source": [
    "def conv_net(x, keep_prob):\n",
    "    \"\"\"\n",
    "    Create a convolutional neural network model\n",
    "    : x: Placeholder tensor that holds image data.\n",
    "    : keep_prob: Placeholder tensor that hold dropout keep probability.\n",
    "    : return: Tensor that represents logits\n",
    "    \"\"\"\n",
    "    # TODO: Apply 1, 2, or 3 Convolution and Max Pool layers\n",
    "    #    Play around with different number of outputs, kernel size and stride\n",
    "    # Function Definition from Above:\n",
    "    #    conv2d_maxpool(x_tensor, conv_num_outputs, conv_ksize, conv_strides, pool_ksize, pool_strides)\n",
    "\n",
    "    num_outputs = 10\n",
    "    \n",
    "    # convolution and maxpool layer 1 (unique conv layer)\n",
    "    conv_num_outputs = 64\n",
    "    conv_ksize = (5,5)\n",
    "    conv_strides = (2,2)\n",
    "    pool_ksize = (2,2)\n",
    "    pool_strides = (2,2)\n",
    "    \n",
    "    x = conv2d_maxpool(x, conv_num_outputs, conv_ksize, conv_strides, pool_ksize, pool_strides)\n",
    "    \n",
    "    # TODO: Apply a Flatten Layer\n",
    "    # Function Definition from Above:\n",
    "    #   flatten(x_tensor)\n",
    "    x = flatten(x)\n",
    "    \n",
    "    # TODO: Apply 1, 2, or 3 Fully Connected Layers\n",
    "    #    Play around with different number of outputs\n",
    "    # Function Definition from Above:\n",
    "    #   fully_conn(x_tensor, num_outputs)\n",
    "\n",
    "    fully_conn_outputs = 1024\n",
    "    x = fully_conn(x, fully_conn_outputs)\n",
    "    \n",
    "    # dropout\n",
    "    x = tf.contrib.layers.dropout(x, keep_prob)\n",
    "    \n",
    "    # TODO: Apply an Output Layer\n",
    "    #    Set this to the number of classes\n",
    "    # Function Definition from Above:\n",
    "    #   output(x_tensor, num_outputs)\n",
    "    \n",
    "    x = output(x, num_outputs)\n",
    "    \n",
    "    # TODO: return output   \n",
    "    \n",
    "    return x\n",
    "\n",
    "# ------------------------------------------------------------------------------\n",
    "\n",
    "\n",
    "\"\"\"\n",
    "DON'T MODIFY ANYTHING IN THIS CELL THAT IS BELOW THIS LINE\n",
    "\"\"\"\n",
    "\n",
    "##############################\n",
    "## Build the Neural Network ##\n",
    "##############################\n",
    "\n",
    "# Remove previous weights, bias, inputs, etc..\n",
    "tf.reset_default_graph()\n",
    "\n",
    "# Inputs\n",
    "x = neural_net_image_input((32, 32, 3))\n",
    "y = neural_net_label_input(10)\n",
    "keep_prob = neural_net_keep_prob_input()\n",
    "\n",
    "# Model\n",
    "logits = conv_net(x, keep_prob)\n",
    "\n",
    "# Name logits Tensor, so that is can be loaded from disk after training\n",
    "logits = tf.identity(logits, name='logits')\n",
    "\n",
    "# Loss and Optimizer\n",
    "cost = tf.reduce_mean(tf.nn.softmax_cross_entropy_with_logits(logits=logits, labels=y))\n",
    "optimizer = tf.train.AdamOptimizer().minimize(cost)\n",
    "\n",
    "# Accuracy\n",
    "correct_pred = tf.equal(tf.argmax(logits, 1), tf.argmax(y, 1))\n",
    "accuracy = tf.reduce_mean(tf.cast(correct_pred, tf.float32), name='accuracy')\n",
    "\n",
    "tests.test_conv_net(conv_net)"
   ]
  },
  {
   "cell_type": "markdown",
   "metadata": {
    "deletable": true,
    "editable": true
   },
   "source": [
    "## Train the Neural Network\n",
    "### Single Optimization\n",
    "Implement the function `train_neural_network` to do a single optimization.  The optimization should use `optimizer` to optimize in `session` with a `feed_dict` of the following:\n",
    "* `x` for image input\n",
    "* `y` for labels\n",
    "* `keep_prob` for keep probability for dropout\n",
    "\n",
    "This function will be called for each batch, so `tf.global_variables_initializer()` has already been called.\n",
    "\n",
    "Note: Nothing needs to be returned. This function is only optimizing the neural network."
   ]
  },
  {
   "cell_type": "code",
   "execution_count": 38,
   "metadata": {
    "collapsed": false,
    "deletable": true,
    "editable": true
   },
   "outputs": [
    {
     "name": "stdout",
     "output_type": "stream",
     "text": [
      "Tests Passed\n"
     ]
    }
   ],
   "source": [
    "def train_neural_network(session, optimizer, keep_probability, feature_batch, label_batch):\n",
    "    \"\"\"\n",
    "    Optimize the session on a batch of images and labels\n",
    "    : session: Current TensorFlow session\n",
    "    : optimizer: TensorFlow optimizer function\n",
    "    : keep_probability: keep probability\n",
    "    : feature_batch: Batch of Numpy image data\n",
    "    : label_batch: Batch of Numpy label data\n",
    "    \"\"\"\n",
    "    # TODO: Implement Function\n",
    "    session.run(optimizer, feed_dict={x: feature_batch, y: label_batch, keep_prob: keep_probability})\n",
    "\n",
    "# ------------------------------------------------------------------------------\n",
    "\n",
    "\n",
    "\"\"\"\n",
    "DON'T MODIFY ANYTHING IN THIS CELL THAT IS BELOW THIS LINE\n",
    "\"\"\"\n",
    "tests.test_train_nn(train_neural_network)"
   ]
  },
  {
   "cell_type": "markdown",
   "metadata": {
    "deletable": true,
    "editable": true
   },
   "source": [
    "### Show Stats\n",
    "Implement the function `print_stats` to print loss and validation accuracy.  Use the global variables `valid_features` and `valid_labels` to calculate validation accuracy.  Use a keep probability of `1.0` to calculate the loss and validation accuracy."
   ]
  },
  {
   "cell_type": "code",
   "execution_count": 39,
   "metadata": {
    "collapsed": false,
    "deletable": true,
    "editable": true
   },
   "outputs": [],
   "source": [
    "def print_stats(session, feature_batch, label_batch, cost, accuracy):\n",
    "    \"\"\"\n",
    "    Print information about loss and validation accuracy\n",
    "    : session: Current TensorFlow session\n",
    "    : feature_batch: Batch of Numpy image data\n",
    "    : label_batch: Batch of Numpy label data\n",
    "    : cost: TensorFlow cost function\n",
    "    : accuracy: TensorFlow accuracy function\n",
    "    \"\"\"\n",
    "    # TODO: Implement Function\n",
    "    new_cost = session.run(cost, feed_dict={x: feature_batch, y: label_batch, keep_prob: 1.0})\n",
    "    new_accuracy = session.run(accuracy, feed_dict={x: valid_features, y: valid_labels, keep_prob: 1.0})\n",
    "    print('Cost: {:<5.4f}, Accuracy: {:<8.4f}'.format(new_cost, new_accuracy))\n",
    "    "
   ]
  },
  {
   "cell_type": "markdown",
   "metadata": {
    "deletable": true,
    "editable": true
   },
   "source": [
    "### Hyperparameters\n",
    "Tune the following parameters:\n",
    "* Set `epochs` to the number of iterations until the network stops learning or start overfitting\n",
    "* Set `batch_size` to the highest number that your machine has memory for.  Most people set them to common sizes of memory:\n",
    " * 64\n",
    " * 128\n",
    " * 256\n",
    " * ...\n",
    "* Set `keep_probability` to the probability of keeping a node using dropout"
   ]
  },
  {
   "cell_type": "code",
   "execution_count": 40,
   "metadata": {
    "collapsed": true,
    "deletable": true,
    "editable": true
   },
   "outputs": [],
   "source": [
    "# TODO: Tune Parameters\n",
    "epochs = 60\n",
    "batch_size = 512\n",
    "keep_probability = 0.4\n"
   ]
  },
  {
   "cell_type": "markdown",
   "metadata": {
    "deletable": true,
    "editable": true
   },
   "source": [
    "### Train on a Single CIFAR-10 Batch\n",
    "Instead of training the neural network on all the CIFAR-10 batches of data, let's use a single batch. This should save time while you iterate on the model to get a better accuracy.  Once the final validation accuracy is 50% or greater, run the model on all the data in the next section."
   ]
  },
  {
   "cell_type": "code",
   "execution_count": 41,
   "metadata": {
    "collapsed": false,
    "deletable": true,
    "editable": true
   },
   "outputs": [
    {
     "name": "stdout",
     "output_type": "stream",
     "text": [
      "Checking the Training on a Single Batch...\n",
      "Epoch  1, CIFAR-10 Batch 1:  Cost: 2.2090, Accuracy: 0.1916  \n",
      "Epoch  2, CIFAR-10 Batch 1:  Cost: 2.1263, Accuracy: 0.2728  \n",
      "Epoch  3, CIFAR-10 Batch 1:  Cost: 2.0383, Accuracy: 0.3144  \n",
      "Epoch  4, CIFAR-10 Batch 1:  Cost: 1.9780, Accuracy: 0.3272  \n",
      "Epoch  5, CIFAR-10 Batch 1:  Cost: 1.8549, Accuracy: 0.3724  \n",
      "Epoch  6, CIFAR-10 Batch 1:  Cost: 1.7754, Accuracy: 0.3884  \n",
      "Epoch  7, CIFAR-10 Batch 1:  Cost: 1.6959, Accuracy: 0.4032  \n",
      "Epoch  8, CIFAR-10 Batch 1:  Cost: 1.6058, Accuracy: 0.4154  \n",
      "Epoch  9, CIFAR-10 Batch 1:  Cost: 1.5482, Accuracy: 0.4216  \n",
      "Epoch 10, CIFAR-10 Batch 1:  Cost: 1.4643, Accuracy: 0.4354  \n",
      "Epoch 11, CIFAR-10 Batch 1:  Cost: 1.3915, Accuracy: 0.4506  \n",
      "Epoch 12, CIFAR-10 Batch 1:  Cost: 1.3528, Accuracy: 0.4492  \n",
      "Epoch 13, CIFAR-10 Batch 1:  Cost: 1.2856, Accuracy: 0.4632  \n",
      "Epoch 14, CIFAR-10 Batch 1:  Cost: 1.2475, Accuracy: 0.4632  \n",
      "Epoch 15, CIFAR-10 Batch 1:  Cost: 1.2010, Accuracy: 0.4610  \n",
      "Epoch 16, CIFAR-10 Batch 1:  Cost: 1.1530, Accuracy: 0.4720  \n",
      "Epoch 17, CIFAR-10 Batch 1:  Cost: 1.1139, Accuracy: 0.4746  \n",
      "Epoch 18, CIFAR-10 Batch 1:  Cost: 1.0537, Accuracy: 0.4768  \n",
      "Epoch 19, CIFAR-10 Batch 1:  Cost: 1.0307, Accuracy: 0.4742  \n",
      "Epoch 20, CIFAR-10 Batch 1:  Cost: 1.0069, Accuracy: 0.4764  \n",
      "Epoch 21, CIFAR-10 Batch 1:  Cost: 0.9129, Accuracy: 0.5080  \n",
      "Epoch 22, CIFAR-10 Batch 1:  Cost: 0.8508, Accuracy: 0.5230  \n",
      "Epoch 23, CIFAR-10 Batch 1:  Cost: 0.8092, Accuracy: 0.5294  \n",
      "Epoch 24, CIFAR-10 Batch 1:  Cost: 0.8037, Accuracy: 0.5262  \n",
      "Epoch 25, CIFAR-10 Batch 1:  Cost: 0.7323, Accuracy: 0.5356  \n",
      "Epoch 26, CIFAR-10 Batch 1:  Cost: 0.7296, Accuracy: 0.5360  \n",
      "Epoch 27, CIFAR-10 Batch 1:  Cost: 0.6546, Accuracy: 0.5472  \n",
      "Epoch 28, CIFAR-10 Batch 1:  Cost: 0.6259, Accuracy: 0.5482  \n",
      "Epoch 29, CIFAR-10 Batch 1:  Cost: 0.6138, Accuracy: 0.5500  \n",
      "Epoch 30, CIFAR-10 Batch 1:  Cost: 0.5770, Accuracy: 0.5498  \n",
      "Epoch 31, CIFAR-10 Batch 1:  Cost: 0.5671, Accuracy: 0.5480  \n",
      "Epoch 32, CIFAR-10 Batch 1:  Cost: 0.5442, Accuracy: 0.5452  \n",
      "Epoch 33, CIFAR-10 Batch 1:  Cost: 0.5232, Accuracy: 0.5470  \n",
      "Epoch 34, CIFAR-10 Batch 1:  Cost: 0.5278, Accuracy: 0.5358  \n",
      "Epoch 35, CIFAR-10 Batch 1:  Cost: 0.5019, Accuracy: 0.5496  \n",
      "Epoch 36, CIFAR-10 Batch 1:  Cost: 0.4958, Accuracy: 0.5404  \n",
      "Epoch 37, CIFAR-10 Batch 1:  Cost: 0.4508, Accuracy: 0.5530  \n",
      "Epoch 38, CIFAR-10 Batch 1:  Cost: 0.4630, Accuracy: 0.5442  \n",
      "Epoch 39, CIFAR-10 Batch 1:  Cost: 0.4386, Accuracy: 0.5526  \n",
      "Epoch 40, CIFAR-10 Batch 1:  Cost: 0.4339, Accuracy: 0.5466  \n",
      "Epoch 41, CIFAR-10 Batch 1:  Cost: 0.4123, Accuracy: 0.5466  \n",
      "Epoch 42, CIFAR-10 Batch 1:  Cost: 0.4075, Accuracy: 0.5534  \n",
      "Epoch 43, CIFAR-10 Batch 1:  Cost: 0.4438, Accuracy: 0.5392  \n",
      "Epoch 44, CIFAR-10 Batch 1:  Cost: 0.3913, Accuracy: 0.5510  \n",
      "Epoch 45, CIFAR-10 Batch 1:  Cost: 0.3790, Accuracy: 0.5504  \n",
      "Epoch 46, CIFAR-10 Batch 1:  Cost: 0.3708, Accuracy: 0.5554  \n",
      "Epoch 47, CIFAR-10 Batch 1:  Cost: 0.3626, Accuracy: 0.5504  \n",
      "Epoch 48, CIFAR-10 Batch 1:  Cost: 0.3595, Accuracy: 0.5424  \n",
      "Epoch 49, CIFAR-10 Batch 1:  Cost: 0.3820, Accuracy: 0.5278  \n",
      "Epoch 50, CIFAR-10 Batch 1:  Cost: 0.3507, Accuracy: 0.5424  \n",
      "Epoch 51, CIFAR-10 Batch 1:  Cost: 0.3409, Accuracy: 0.5578  \n",
      "Epoch 52, CIFAR-10 Batch 1:  Cost: 0.3319, Accuracy: 0.5560  \n",
      "Epoch 53, CIFAR-10 Batch 1:  Cost: 0.3290, Accuracy: 0.5514  \n",
      "Epoch 54, CIFAR-10 Batch 1:  Cost: 0.3221, Accuracy: 0.5556  \n",
      "Epoch 55, CIFAR-10 Batch 1:  Cost: 0.3237, Accuracy: 0.5488  \n",
      "Epoch 56, CIFAR-10 Batch 1:  Cost: 0.3227, Accuracy: 0.5528  \n",
      "Epoch 57, CIFAR-10 Batch 1:  Cost: 0.3177, Accuracy: 0.5532  \n",
      "Epoch 58, CIFAR-10 Batch 1:  Cost: 0.3173, Accuracy: 0.5514  \n",
      "Epoch 59, CIFAR-10 Batch 1:  Cost: 0.3153, Accuracy: 0.5574  \n",
      "Epoch 60, CIFAR-10 Batch 1:  Cost: 0.3147, Accuracy: 0.5590  \n"
     ]
    }
   ],
   "source": [
    "\"\"\"\n",
    "DON'T MODIFY ANYTHING IN THIS CELL\n",
    "\"\"\"\n",
    "print('Checking the Training on a Single Batch...')\n",
    "with tf.Session() as sess:\n",
    "    # Initializing the variables\n",
    "    sess.run(tf.global_variables_initializer())\n",
    "    \n",
    "    # Training cycle\n",
    "    for epoch in range(epochs):\n",
    "        batch_i = 1\n",
    "        for batch_features, batch_labels in helper.load_preprocess_training_batch(batch_i, batch_size):\n",
    "            train_neural_network(sess, optimizer, keep_probability, batch_features, batch_labels)\n",
    "        print('Epoch {:>2}, CIFAR-10 Batch {}:  '.format(epoch + 1, batch_i), end='')\n",
    "        print_stats(sess, batch_features, batch_labels, cost, accuracy)"
   ]
  },
  {
   "cell_type": "markdown",
   "metadata": {
    "deletable": true,
    "editable": true
   },
   "source": [
    "### Fully Train the Model\n",
    "Now that you got a good accuracy with a single CIFAR-10 batch, try it with all five batches."
   ]
  },
  {
   "cell_type": "code",
   "execution_count": 42,
   "metadata": {
    "collapsed": false,
    "deletable": true,
    "editable": true,
    "scrolled": false
   },
   "outputs": [
    {
     "name": "stdout",
     "output_type": "stream",
     "text": [
      "Training...\n",
      "Epoch  1, CIFAR-10 Batch 1:  Cost: 2.2582, Accuracy: 0.1186  \n",
      "Epoch  1, CIFAR-10 Batch 2:  Cost: 2.2218, Accuracy: 0.1930  \n",
      "Epoch  1, CIFAR-10 Batch 3:  Cost: 2.1568, Accuracy: 0.2554  \n",
      "Epoch  1, CIFAR-10 Batch 4:  Cost: 2.0459, Accuracy: 0.2998  \n",
      "Epoch  1, CIFAR-10 Batch 5:  Cost: 1.9447, Accuracy: 0.3324  \n",
      "Epoch  2, CIFAR-10 Batch 1:  Cost: 1.8586, Accuracy: 0.4220  \n",
      "Epoch  2, CIFAR-10 Batch 2:  Cost: 1.6633, Accuracy: 0.4418  \n",
      "Epoch  2, CIFAR-10 Batch 3:  Cost: 1.5431, Accuracy: 0.4634  \n",
      "Epoch  2, CIFAR-10 Batch 4:  Cost: 1.5221, Accuracy: 0.4762  \n",
      "Epoch  2, CIFAR-10 Batch 5:  Cost: 1.4614, Accuracy: 0.4874  \n",
      "Epoch  3, CIFAR-10 Batch 1:  Cost: 1.4887, Accuracy: 0.5042  \n",
      "Epoch  3, CIFAR-10 Batch 2:  Cost: 1.2428, Accuracy: 0.5302  \n",
      "Epoch  3, CIFAR-10 Batch 3:  Cost: 1.1307, Accuracy: 0.5304  \n",
      "Epoch  3, CIFAR-10 Batch 4:  Cost: 1.1111, Accuracy: 0.5604  \n",
      "Epoch  3, CIFAR-10 Batch 5:  Cost: 1.1577, Accuracy: 0.5662  \n",
      "Epoch  4, CIFAR-10 Batch 1:  Cost: 1.2120, Accuracy: 0.5678  \n",
      "Epoch  4, CIFAR-10 Batch 2:  Cost: 1.0827, Accuracy: 0.5736  \n",
      "Epoch  4, CIFAR-10 Batch 3:  Cost: 0.9860, Accuracy: 0.5782  \n",
      "Epoch  4, CIFAR-10 Batch 4:  Cost: 0.9793, Accuracy: 0.5924  \n",
      "Epoch  4, CIFAR-10 Batch 5:  Cost: 1.0235, Accuracy: 0.5988  \n",
      "Epoch  5, CIFAR-10 Batch 1:  Cost: 1.1017, Accuracy: 0.5844  \n",
      "Epoch  5, CIFAR-10 Batch 2:  Cost: 0.9970, Accuracy: 0.6012  \n",
      "Epoch  5, CIFAR-10 Batch 3:  Cost: 0.9012, Accuracy: 0.6014  \n",
      "Epoch  5, CIFAR-10 Batch 4:  Cost: 0.8905, Accuracy: 0.6118  \n",
      "Epoch  5, CIFAR-10 Batch 5:  Cost: 0.9210, Accuracy: 0.6180  \n",
      "Epoch  6, CIFAR-10 Batch 1:  Cost: 0.9928, Accuracy: 0.6158  \n",
      "Epoch  6, CIFAR-10 Batch 2:  Cost: 0.9160, Accuracy: 0.6152  \n",
      "Epoch  6, CIFAR-10 Batch 3:  Cost: 0.8181, Accuracy: 0.6182  \n",
      "Epoch  6, CIFAR-10 Batch 4:  Cost: 0.8193, Accuracy: 0.6274  \n",
      "Epoch  6, CIFAR-10 Batch 5:  Cost: 0.8302, Accuracy: 0.6372  \n",
      "Epoch  7, CIFAR-10 Batch 1:  Cost: 0.9093, Accuracy: 0.6306  \n",
      "Epoch  7, CIFAR-10 Batch 2:  Cost: 0.8772, Accuracy: 0.6168  \n",
      "Epoch  7, CIFAR-10 Batch 3:  Cost: 0.7611, Accuracy: 0.6200  \n",
      "Epoch  7, CIFAR-10 Batch 4:  Cost: 0.7580, Accuracy: 0.6410  \n",
      "Epoch  7, CIFAR-10 Batch 5:  Cost: 0.7581, Accuracy: 0.6456  \n",
      "Epoch  8, CIFAR-10 Batch 1:  Cost: 0.8600, Accuracy: 0.6330  \n",
      "Epoch  8, CIFAR-10 Batch 2:  Cost: 0.8163, Accuracy: 0.6226  \n",
      "Epoch  8, CIFAR-10 Batch 3:  Cost: 0.6829, Accuracy: 0.6414  \n",
      "Epoch  8, CIFAR-10 Batch 4:  Cost: 0.7030, Accuracy: 0.6422  \n",
      "Epoch  8, CIFAR-10 Batch 5:  Cost: 0.6971, Accuracy: 0.6466  \n",
      "Epoch  9, CIFAR-10 Batch 1:  Cost: 0.7919, Accuracy: 0.6420  \n",
      "Epoch  9, CIFAR-10 Batch 2:  Cost: 0.7570, Accuracy: 0.6420  \n",
      "Epoch  9, CIFAR-10 Batch 3:  Cost: 0.6378, Accuracy: 0.6506  \n",
      "Epoch  9, CIFAR-10 Batch 4:  Cost: 0.6490, Accuracy: 0.6566  \n",
      "Epoch  9, CIFAR-10 Batch 5:  Cost: 0.6346, Accuracy: 0.6582  \n",
      "Epoch 10, CIFAR-10 Batch 1:  Cost: 0.7132, Accuracy: 0.6508  \n",
      "Epoch 10, CIFAR-10 Batch 2:  Cost: 0.6803, Accuracy: 0.6478  \n",
      "Epoch 10, CIFAR-10 Batch 3:  Cost: 0.5902, Accuracy: 0.6538  \n",
      "Epoch 10, CIFAR-10 Batch 4:  Cost: 0.5972, Accuracy: 0.6544  \n",
      "Epoch 10, CIFAR-10 Batch 5:  Cost: 0.6064, Accuracy: 0.6532  \n",
      "Epoch 11, CIFAR-10 Batch 1:  Cost: 0.6644, Accuracy: 0.6602  \n",
      "Epoch 11, CIFAR-10 Batch 2:  Cost: 0.6457, Accuracy: 0.6526  \n",
      "Epoch 11, CIFAR-10 Batch 3:  Cost: 0.5630, Accuracy: 0.6486  \n",
      "Epoch 11, CIFAR-10 Batch 4:  Cost: 0.5331, Accuracy: 0.6718  \n",
      "Epoch 11, CIFAR-10 Batch 5:  Cost: 0.5577, Accuracy: 0.6590  \n",
      "Epoch 12, CIFAR-10 Batch 1:  Cost: 0.6422, Accuracy: 0.6584  \n",
      "Epoch 12, CIFAR-10 Batch 2:  Cost: 0.5955, Accuracy: 0.6634  \n",
      "Epoch 12, CIFAR-10 Batch 3:  Cost: 0.5185, Accuracy: 0.6522  \n",
      "Epoch 12, CIFAR-10 Batch 4:  Cost: 0.5240, Accuracy: 0.6680  \n",
      "Epoch 12, CIFAR-10 Batch 5:  Cost: 0.5105, Accuracy: 0.6624  \n",
      "Epoch 13, CIFAR-10 Batch 1:  Cost: 0.5715, Accuracy: 0.6638  \n",
      "Epoch 13, CIFAR-10 Batch 2:  Cost: 0.5488, Accuracy: 0.6656  \n",
      "Epoch 13, CIFAR-10 Batch 3:  Cost: 0.4784, Accuracy: 0.6664  \n",
      "Epoch 13, CIFAR-10 Batch 4:  Cost: 0.4554, Accuracy: 0.6746  \n",
      "Epoch 13, CIFAR-10 Batch 5:  Cost: 0.5022, Accuracy: 0.6612  \n",
      "Epoch 14, CIFAR-10 Batch 1:  Cost: 0.5406, Accuracy: 0.6684  \n",
      "Epoch 14, CIFAR-10 Batch 2:  Cost: 0.5236, Accuracy: 0.6678  \n",
      "Epoch 14, CIFAR-10 Batch 3:  Cost: 0.4288, Accuracy: 0.6704  \n",
      "Epoch 14, CIFAR-10 Batch 4:  Cost: 0.4244, Accuracy: 0.6752  \n",
      "Epoch 14, CIFAR-10 Batch 5:  Cost: 0.4479, Accuracy: 0.6710  \n",
      "Epoch 15, CIFAR-10 Batch 1:  Cost: 0.5190, Accuracy: 0.6688  \n",
      "Epoch 15, CIFAR-10 Batch 2:  Cost: 0.4871, Accuracy: 0.6702  \n",
      "Epoch 15, CIFAR-10 Batch 3:  Cost: 0.3990, Accuracy: 0.6684  \n",
      "Epoch 15, CIFAR-10 Batch 4:  Cost: 0.4385, Accuracy: 0.6642  \n",
      "Epoch 15, CIFAR-10 Batch 5:  Cost: 0.4228, Accuracy: 0.6672  \n",
      "Epoch 16, CIFAR-10 Batch 1:  Cost: 0.4539, Accuracy: 0.6796  \n",
      "Epoch 16, CIFAR-10 Batch 2:  Cost: 0.4505, Accuracy: 0.6824  \n",
      "Epoch 16, CIFAR-10 Batch 3:  Cost: 0.3620, Accuracy: 0.6778  \n",
      "Epoch 16, CIFAR-10 Batch 4:  Cost: 0.3684, Accuracy: 0.6710  \n",
      "Epoch 16, CIFAR-10 Batch 5:  Cost: 0.3889, Accuracy: 0.6662  \n",
      "Epoch 17, CIFAR-10 Batch 1:  Cost: 0.4474, Accuracy: 0.6786  \n",
      "Epoch 17, CIFAR-10 Batch 2:  Cost: 0.3994, Accuracy: 0.6810  \n",
      "Epoch 17, CIFAR-10 Batch 3:  Cost: 0.3268, Accuracy: 0.6760  \n",
      "Epoch 17, CIFAR-10 Batch 4:  Cost: 0.3469, Accuracy: 0.6674  \n",
      "Epoch 17, CIFAR-10 Batch 5:  Cost: 0.3621, Accuracy: 0.6720  \n",
      "Epoch 18, CIFAR-10 Batch 1:  Cost: 0.4143, Accuracy: 0.6828  \n",
      "Epoch 18, CIFAR-10 Batch 2:  Cost: 0.3954, Accuracy: 0.6762  \n",
      "Epoch 18, CIFAR-10 Batch 3:  Cost: 0.2826, Accuracy: 0.6792  \n",
      "Epoch 18, CIFAR-10 Batch 4:  Cost: 0.2985, Accuracy: 0.6742  \n",
      "Epoch 18, CIFAR-10 Batch 5:  Cost: 0.3096, Accuracy: 0.6762  \n",
      "Epoch 19, CIFAR-10 Batch 1:  Cost: 0.3753, Accuracy: 0.6828  \n",
      "Epoch 19, CIFAR-10 Batch 2:  Cost: 0.3483, Accuracy: 0.6878  \n",
      "Epoch 19, CIFAR-10 Batch 3:  Cost: 0.2712, Accuracy: 0.6848  \n",
      "Epoch 19, CIFAR-10 Batch 4:  Cost: 0.2861, Accuracy: 0.6664  \n",
      "Epoch 19, CIFAR-10 Batch 5:  Cost: 0.3048, Accuracy: 0.6728  \n",
      "Epoch 20, CIFAR-10 Batch 1:  Cost: 0.3576, Accuracy: 0.6948  \n",
      "Epoch 20, CIFAR-10 Batch 2:  Cost: 0.3300, Accuracy: 0.6908  \n",
      "Epoch 20, CIFAR-10 Batch 3:  Cost: 0.2547, Accuracy: 0.6866  \n",
      "Epoch 20, CIFAR-10 Batch 4:  Cost: 0.2753, Accuracy: 0.6772  \n",
      "Epoch 20, CIFAR-10 Batch 5:  Cost: 0.2869, Accuracy: 0.6802  \n",
      "Epoch 21, CIFAR-10 Batch 1:  Cost: 0.3401, Accuracy: 0.6838  \n",
      "Epoch 21, CIFAR-10 Batch 2:  Cost: 0.3196, Accuracy: 0.6872  \n",
      "Epoch 21, CIFAR-10 Batch 3:  Cost: 0.2292, Accuracy: 0.6944  \n",
      "Epoch 21, CIFAR-10 Batch 4:  Cost: 0.2298, Accuracy: 0.6864  \n",
      "Epoch 21, CIFAR-10 Batch 5:  Cost: 0.2549, Accuracy: 0.6878  \n",
      "Epoch 22, CIFAR-10 Batch 1:  Cost: 0.3089, Accuracy: 0.6854  \n",
      "Epoch 22, CIFAR-10 Batch 2:  Cost: 0.2986, Accuracy: 0.6828  \n",
      "Epoch 22, CIFAR-10 Batch 3:  Cost: 0.2198, Accuracy: 0.6828  \n",
      "Epoch 22, CIFAR-10 Batch 4:  Cost: 0.2100, Accuracy: 0.6908  \n",
      "Epoch 22, CIFAR-10 Batch 5:  Cost: 0.2429, Accuracy: 0.6844  \n",
      "Epoch 23, CIFAR-10 Batch 1:  Cost: 0.3033, Accuracy: 0.6924  \n",
      "Epoch 23, CIFAR-10 Batch 2:  Cost: 0.2961, Accuracy: 0.6748  \n",
      "Epoch 23, CIFAR-10 Batch 3:  Cost: 0.2028, Accuracy: 0.6914  \n",
      "Epoch 23, CIFAR-10 Batch 4:  Cost: 0.2001, Accuracy: 0.6926  \n",
      "Epoch 23, CIFAR-10 Batch 5:  Cost: 0.2266, Accuracy: 0.6850  \n",
      "Epoch 24, CIFAR-10 Batch 1:  Cost: 0.2825, Accuracy: 0.6922  \n",
      "Epoch 24, CIFAR-10 Batch 2:  Cost: 0.2669, Accuracy: 0.6800  \n",
      "Epoch 24, CIFAR-10 Batch 3:  Cost: 0.1982, Accuracy: 0.6822  \n",
      "Epoch 24, CIFAR-10 Batch 4:  Cost: 0.1843, Accuracy: 0.6936  \n",
      "Epoch 24, CIFAR-10 Batch 5:  Cost: 0.2012, Accuracy: 0.6918  \n",
      "Epoch 25, CIFAR-10 Batch 1:  Cost: 0.2517, Accuracy: 0.6934  \n",
      "Epoch 25, CIFAR-10 Batch 2:  Cost: 0.2495, Accuracy: 0.6868  \n",
      "Epoch 25, CIFAR-10 Batch 3:  Cost: 0.1882, Accuracy: 0.6750  \n",
      "Epoch 25, CIFAR-10 Batch 4:  Cost: 0.1828, Accuracy: 0.6920  \n",
      "Epoch 25, CIFAR-10 Batch 5:  Cost: 0.1748, Accuracy: 0.6900  \n",
      "Epoch 26, CIFAR-10 Batch 1:  Cost: 0.2417, Accuracy: 0.6838  \n",
      "Epoch 26, CIFAR-10 Batch 2:  Cost: 0.2247, Accuracy: 0.6866  \n",
      "Epoch 26, CIFAR-10 Batch 3:  Cost: 0.1695, Accuracy: 0.6766  \n",
      "Epoch 26, CIFAR-10 Batch 4:  Cost: 0.1554, Accuracy: 0.6952  \n",
      "Epoch 26, CIFAR-10 Batch 5:  Cost: 0.1544, Accuracy: 0.6890  \n",
      "Epoch 27, CIFAR-10 Batch 1:  Cost: 0.1992, Accuracy: 0.6924  \n",
      "Epoch 27, CIFAR-10 Batch 2:  Cost: 0.2060, Accuracy: 0.6908  \n",
      "Epoch 27, CIFAR-10 Batch 3:  Cost: 0.1609, Accuracy: 0.6716  \n",
      "Epoch 27, CIFAR-10 Batch 4:  Cost: 0.1505, Accuracy: 0.6934  \n",
      "Epoch 27, CIFAR-10 Batch 5:  Cost: 0.1435, Accuracy: 0.6880  \n",
      "Epoch 28, CIFAR-10 Batch 1:  Cost: 0.1861, Accuracy: 0.6970  \n",
      "Epoch 28, CIFAR-10 Batch 2:  Cost: 0.1881, Accuracy: 0.6954  \n",
      "Epoch 28, CIFAR-10 Batch 3:  Cost: 0.1340, Accuracy: 0.6788  \n",
      "Epoch 28, CIFAR-10 Batch 4:  Cost: 0.1507, Accuracy: 0.6840  \n",
      "Epoch 28, CIFAR-10 Batch 5:  Cost: 0.1388, Accuracy: 0.6850  \n",
      "Epoch 29, CIFAR-10 Batch 1:  Cost: 0.1670, Accuracy: 0.7008  \n",
      "Epoch 29, CIFAR-10 Batch 2:  Cost: 0.1720, Accuracy: 0.7062  \n",
      "Epoch 29, CIFAR-10 Batch 3:  Cost: 0.1199, Accuracy: 0.6760  \n",
      "Epoch 29, CIFAR-10 Batch 4:  Cost: 0.1485, Accuracy: 0.6826  \n",
      "Epoch 29, CIFAR-10 Batch 5:  Cost: 0.1246, Accuracy: 0.6868  \n",
      "Epoch 30, CIFAR-10 Batch 1:  Cost: 0.1616, Accuracy: 0.7000  \n",
      "Epoch 30, CIFAR-10 Batch 2:  Cost: 0.1578, Accuracy: 0.7040  \n",
      "Epoch 30, CIFAR-10 Batch 3:  Cost: 0.1004, Accuracy: 0.6876  \n",
      "Epoch 30, CIFAR-10 Batch 4:  Cost: 0.1232, Accuracy: 0.6914  \n",
      "Epoch 30, CIFAR-10 Batch 5:  Cost: 0.1247, Accuracy: 0.6920  \n",
      "Epoch 31, CIFAR-10 Batch 1:  Cost: 0.1437, Accuracy: 0.6988  \n",
      "Epoch 31, CIFAR-10 Batch 2:  Cost: 0.1447, Accuracy: 0.6970  \n",
      "Epoch 31, CIFAR-10 Batch 3:  Cost: 0.0928, Accuracy: 0.6854  \n",
      "Epoch 31, CIFAR-10 Batch 4:  Cost: 0.1074, Accuracy: 0.6954  \n",
      "Epoch 31, CIFAR-10 Batch 5:  Cost: 0.1002, Accuracy: 0.6970  \n",
      "Epoch 32, CIFAR-10 Batch 1:  Cost: 0.1328, Accuracy: 0.6974  \n",
      "Epoch 32, CIFAR-10 Batch 2:  Cost: 0.1258, Accuracy: 0.7018  \n",
      "Epoch 32, CIFAR-10 Batch 3:  Cost: 0.0840, Accuracy: 0.6940  \n",
      "Epoch 32, CIFAR-10 Batch 4:  Cost: 0.0944, Accuracy: 0.6960  \n",
      "Epoch 32, CIFAR-10 Batch 5:  Cost: 0.0908, Accuracy: 0.6980  \n",
      "Epoch 33, CIFAR-10 Batch 1:  Cost: 0.1231, Accuracy: 0.7012  \n",
      "Epoch 33, CIFAR-10 Batch 2:  Cost: 0.1103, Accuracy: 0.7000  \n",
      "Epoch 33, CIFAR-10 Batch 3:  Cost: 0.0712, Accuracy: 0.6956  \n",
      "Epoch 33, CIFAR-10 Batch 4:  Cost: 0.0974, Accuracy: 0.6886  \n",
      "Epoch 33, CIFAR-10 Batch 5:  Cost: 0.0849, Accuracy: 0.6886  \n",
      "Epoch 34, CIFAR-10 Batch 1:  Cost: 0.1132, Accuracy: 0.6988  \n",
      "Epoch 34, CIFAR-10 Batch 2:  Cost: 0.1099, Accuracy: 0.6962  \n",
      "Epoch 34, CIFAR-10 Batch 3:  Cost: 0.0710, Accuracy: 0.6980  \n",
      "Epoch 34, CIFAR-10 Batch 4:  Cost: 0.0889, Accuracy: 0.6954  \n",
      "Epoch 34, CIFAR-10 Batch 5:  Cost: 0.0710, Accuracy: 0.6928  \n",
      "Epoch 35, CIFAR-10 Batch 1:  Cost: 0.1102, Accuracy: 0.7028  \n",
      "Epoch 35, CIFAR-10 Batch 2:  Cost: 0.0869, Accuracy: 0.6950  \n",
      "Epoch 35, CIFAR-10 Batch 3:  Cost: 0.0601, Accuracy: 0.6902  \n",
      "Epoch 35, CIFAR-10 Batch 4:  Cost: 0.0757, Accuracy: 0.6970  \n",
      "Epoch 35, CIFAR-10 Batch 5:  Cost: 0.0678, Accuracy: 0.6938  \n",
      "Epoch 36, CIFAR-10 Batch 1:  Cost: 0.1078, Accuracy: 0.7012  \n",
      "Epoch 36, CIFAR-10 Batch 2:  Cost: 0.0776, Accuracy: 0.6994  \n",
      "Epoch 36, CIFAR-10 Batch 3:  Cost: 0.0599, Accuracy: 0.6958  \n",
      "Epoch 36, CIFAR-10 Batch 4:  Cost: 0.0693, Accuracy: 0.6988  \n",
      "Epoch 36, CIFAR-10 Batch 5:  Cost: 0.0544, Accuracy: 0.6930  \n",
      "Epoch 37, CIFAR-10 Batch 1:  Cost: 0.0832, Accuracy: 0.7058  \n",
      "Epoch 37, CIFAR-10 Batch 2:  Cost: 0.0741, Accuracy: 0.6946  \n",
      "Epoch 37, CIFAR-10 Batch 3:  Cost: 0.0600, Accuracy: 0.6962  \n",
      "Epoch 37, CIFAR-10 Batch 4:  Cost: 0.0780, Accuracy: 0.6824  \n",
      "Epoch 37, CIFAR-10 Batch 5:  Cost: 0.0743, Accuracy: 0.6834  \n",
      "Epoch 38, CIFAR-10 Batch 1:  Cost: 0.0920, Accuracy: 0.7002  \n",
      "Epoch 38, CIFAR-10 Batch 2:  Cost: 0.0714, Accuracy: 0.6924  \n",
      "Epoch 38, CIFAR-10 Batch 3:  Cost: 0.0536, Accuracy: 0.7022  \n",
      "Epoch 38, CIFAR-10 Batch 4:  Cost: 0.0635, Accuracy: 0.6916  \n",
      "Epoch 38, CIFAR-10 Batch 5:  Cost: 0.0507, Accuracy: 0.6924  \n",
      "Epoch 39, CIFAR-10 Batch 1:  Cost: 0.0872, Accuracy: 0.6968  \n",
      "Epoch 39, CIFAR-10 Batch 2:  Cost: 0.0580, Accuracy: 0.7012  \n",
      "Epoch 39, CIFAR-10 Batch 3:  Cost: 0.0525, Accuracy: 0.6990  \n",
      "Epoch 39, CIFAR-10 Batch 4:  Cost: 0.0604, Accuracy: 0.6866  \n",
      "Epoch 39, CIFAR-10 Batch 5:  Cost: 0.0539, Accuracy: 0.6974  \n",
      "Epoch 40, CIFAR-10 Batch 1:  Cost: 0.0803, Accuracy: 0.7000  \n",
      "Epoch 40, CIFAR-10 Batch 2:  Cost: 0.0591, Accuracy: 0.7080  \n",
      "Epoch 40, CIFAR-10 Batch 3:  Cost: 0.0513, Accuracy: 0.6972  \n",
      "Epoch 40, CIFAR-10 Batch 4:  Cost: 0.0512, Accuracy: 0.6910  \n",
      "Epoch 40, CIFAR-10 Batch 5:  Cost: 0.0443, Accuracy: 0.6944  \n",
      "Epoch 41, CIFAR-10 Batch 1:  Cost: 0.0799, Accuracy: 0.6944  \n",
      "Epoch 41, CIFAR-10 Batch 2:  Cost: 0.0590, Accuracy: 0.7004  \n",
      "Epoch 41, CIFAR-10 Batch 3:  Cost: 0.0495, Accuracy: 0.6946  \n",
      "Epoch 41, CIFAR-10 Batch 4:  Cost: 0.0418, Accuracy: 0.6970  \n",
      "Epoch 41, CIFAR-10 Batch 5:  Cost: 0.0406, Accuracy: 0.7040  \n",
      "Epoch 42, CIFAR-10 Batch 1:  Cost: 0.0734, Accuracy: 0.6874  \n",
      "Epoch 42, CIFAR-10 Batch 2:  Cost: 0.0506, Accuracy: 0.7058  \n",
      "Epoch 42, CIFAR-10 Batch 3:  Cost: 0.0503, Accuracy: 0.6982  \n",
      "Epoch 42, CIFAR-10 Batch 4:  Cost: 0.0365, Accuracy: 0.6946  \n",
      "Epoch 42, CIFAR-10 Batch 5:  Cost: 0.0389, Accuracy: 0.6976  \n",
      "Epoch 43, CIFAR-10 Batch 1:  Cost: 0.0598, Accuracy: 0.6966  \n",
      "Epoch 43, CIFAR-10 Batch 2:  Cost: 0.0419, Accuracy: 0.6994  \n",
      "Epoch 43, CIFAR-10 Batch 3:  Cost: 0.0384, Accuracy: 0.6964  \n",
      "Epoch 43, CIFAR-10 Batch 4:  Cost: 0.0376, Accuracy: 0.6852  \n",
      "Epoch 43, CIFAR-10 Batch 5:  Cost: 0.0316, Accuracy: 0.6972  \n",
      "Epoch 44, CIFAR-10 Batch 1:  Cost: 0.0653, Accuracy: 0.6966  \n",
      "Epoch 44, CIFAR-10 Batch 2:  Cost: 0.0424, Accuracy: 0.7026  \n",
      "Epoch 44, CIFAR-10 Batch 3:  Cost: 0.0417, Accuracy: 0.6872  \n",
      "Epoch 44, CIFAR-10 Batch 4:  Cost: 0.0337, Accuracy: 0.6964  \n",
      "Epoch 44, CIFAR-10 Batch 5:  Cost: 0.0341, Accuracy: 0.6956  \n",
      "Epoch 45, CIFAR-10 Batch 1:  Cost: 0.0558, Accuracy: 0.6954  \n",
      "Epoch 45, CIFAR-10 Batch 2:  Cost: 0.0460, Accuracy: 0.6988  \n",
      "Epoch 45, CIFAR-10 Batch 3:  Cost: 0.0395, Accuracy: 0.6980  \n",
      "Epoch 45, CIFAR-10 Batch 4:  Cost: 0.0305, Accuracy: 0.6968  \n",
      "Epoch 45, CIFAR-10 Batch 5:  Cost: 0.0384, Accuracy: 0.6962  \n",
      "Epoch 46, CIFAR-10 Batch 1:  Cost: 0.0546, Accuracy: 0.6936  \n",
      "Epoch 46, CIFAR-10 Batch 2:  Cost: 0.0381, Accuracy: 0.6900  \n",
      "Epoch 46, CIFAR-10 Batch 3:  Cost: 0.0318, Accuracy: 0.6990  \n",
      "Epoch 46, CIFAR-10 Batch 4:  Cost: 0.0276, Accuracy: 0.6946  \n",
      "Epoch 46, CIFAR-10 Batch 5:  Cost: 0.0292, Accuracy: 0.6950  \n",
      "Epoch 47, CIFAR-10 Batch 1:  Cost: 0.0547, Accuracy: 0.6908  \n",
      "Epoch 47, CIFAR-10 Batch 2:  Cost: 0.0422, Accuracy: 0.6930  \n",
      "Epoch 47, CIFAR-10 Batch 3:  Cost: 0.0339, Accuracy: 0.7024  \n",
      "Epoch 47, CIFAR-10 Batch 4:  Cost: 0.0275, Accuracy: 0.6956  \n",
      "Epoch 47, CIFAR-10 Batch 5:  Cost: 0.0309, Accuracy: 0.6970  \n",
      "Epoch 48, CIFAR-10 Batch 1:  Cost: 0.0421, Accuracy: 0.7038  \n",
      "Epoch 48, CIFAR-10 Batch 2:  Cost: 0.0301, Accuracy: 0.6998  \n",
      "Epoch 48, CIFAR-10 Batch 3:  Cost: 0.0269, Accuracy: 0.7026  \n",
      "Epoch 48, CIFAR-10 Batch 4:  Cost: 0.0232, Accuracy: 0.7002  \n",
      "Epoch 48, CIFAR-10 Batch 5:  Cost: 0.0246, Accuracy: 0.6996  \n",
      "Epoch 49, CIFAR-10 Batch 1:  Cost: 0.0405, Accuracy: 0.6980  \n",
      "Epoch 49, CIFAR-10 Batch 2:  Cost: 0.0331, Accuracy: 0.7014  \n",
      "Epoch 49, CIFAR-10 Batch 3:  Cost: 0.0283, Accuracy: 0.6978  \n",
      "Epoch 49, CIFAR-10 Batch 4:  Cost: 0.0200, Accuracy: 0.6986  \n",
      "Epoch 49, CIFAR-10 Batch 5:  Cost: 0.0219, Accuracy: 0.7010  \n",
      "Epoch 50, CIFAR-10 Batch 1:  Cost: 0.0382, Accuracy: 0.7030  \n",
      "Epoch 50, CIFAR-10 Batch 2:  Cost: 0.0274, Accuracy: 0.7020  \n",
      "Epoch 50, CIFAR-10 Batch 3:  Cost: 0.0278, Accuracy: 0.6956  \n",
      "Epoch 50, CIFAR-10 Batch 4:  Cost: 0.0205, Accuracy: 0.6926  \n",
      "Epoch 50, CIFAR-10 Batch 5:  Cost: 0.0240, Accuracy: 0.7012  \n",
      "Epoch 51, CIFAR-10 Batch 1:  Cost: 0.0310, Accuracy: 0.6986  \n",
      "Epoch 51, CIFAR-10 Batch 2:  Cost: 0.0248, Accuracy: 0.7040  \n",
      "Epoch 51, CIFAR-10 Batch 3:  Cost: 0.0199, Accuracy: 0.6976  \n",
      "Epoch 51, CIFAR-10 Batch 4:  Cost: 0.0229, Accuracy: 0.6896  \n",
      "Epoch 51, CIFAR-10 Batch 5:  Cost: 0.0207, Accuracy: 0.6950  \n",
      "Epoch 52, CIFAR-10 Batch 1:  Cost: 0.0246, Accuracy: 0.6958  \n",
      "Epoch 52, CIFAR-10 Batch 2:  Cost: 0.0225, Accuracy: 0.7044  \n",
      "Epoch 52, CIFAR-10 Batch 3:  Cost: 0.0212, Accuracy: 0.6980  \n",
      "Epoch 52, CIFAR-10 Batch 4:  Cost: 0.0192, Accuracy: 0.6924  \n",
      "Epoch 52, CIFAR-10 Batch 5:  Cost: 0.0237, Accuracy: 0.6930  \n",
      "Epoch 53, CIFAR-10 Batch 1:  Cost: 0.0217, Accuracy: 0.7022  \n",
      "Epoch 53, CIFAR-10 Batch 2:  Cost: 0.0247, Accuracy: 0.6984  \n",
      "Epoch 53, CIFAR-10 Batch 3:  Cost: 0.0261, Accuracy: 0.6920  \n",
      "Epoch 53, CIFAR-10 Batch 4:  Cost: 0.0201, Accuracy: 0.6932  \n",
      "Epoch 53, CIFAR-10 Batch 5:  Cost: 0.0196, Accuracy: 0.6970  \n",
      "Epoch 54, CIFAR-10 Batch 1:  Cost: 0.0218, Accuracy: 0.6966  \n",
      "Epoch 54, CIFAR-10 Batch 2:  Cost: 0.0212, Accuracy: 0.6958  \n",
      "Epoch 54, CIFAR-10 Batch 3:  Cost: 0.0206, Accuracy: 0.6926  \n",
      "Epoch 54, CIFAR-10 Batch 4:  Cost: 0.0190, Accuracy: 0.6870  \n",
      "Epoch 54, CIFAR-10 Batch 5:  Cost: 0.0201, Accuracy: 0.6974  \n",
      "Epoch 55, CIFAR-10 Batch 1:  Cost: 0.0198, Accuracy: 0.6898  \n",
      "Epoch 55, CIFAR-10 Batch 2:  Cost: 0.0197, Accuracy: 0.6980  \n",
      "Epoch 55, CIFAR-10 Batch 3:  Cost: 0.0233, Accuracy: 0.6860  \n",
      "Epoch 55, CIFAR-10 Batch 4:  Cost: 0.0141, Accuracy: 0.6962  \n",
      "Epoch 55, CIFAR-10 Batch 5:  Cost: 0.0169, Accuracy: 0.6978  \n",
      "Epoch 56, CIFAR-10 Batch 1:  Cost: 0.0203, Accuracy: 0.6946  \n",
      "Epoch 56, CIFAR-10 Batch 2:  Cost: 0.0206, Accuracy: 0.6952  \n",
      "Epoch 56, CIFAR-10 Batch 3:  Cost: 0.0182, Accuracy: 0.6932  \n",
      "Epoch 56, CIFAR-10 Batch 4:  Cost: 0.0177, Accuracy: 0.6934  \n",
      "Epoch 56, CIFAR-10 Batch 5:  Cost: 0.0126, Accuracy: 0.7024  \n",
      "Epoch 57, CIFAR-10 Batch 1:  Cost: 0.0222, Accuracy: 0.6960  \n",
      "Epoch 57, CIFAR-10 Batch 2:  Cost: 0.0189, Accuracy: 0.6978  \n",
      "Epoch 57, CIFAR-10 Batch 3:  Cost: 0.0218, Accuracy: 0.6884  \n",
      "Epoch 57, CIFAR-10 Batch 4:  Cost: 0.0160, Accuracy: 0.7014  \n",
      "Epoch 57, CIFAR-10 Batch 5:  Cost: 0.0156, Accuracy: 0.6942  \n",
      "Epoch 58, CIFAR-10 Batch 1:  Cost: 0.0179, Accuracy: 0.6926  \n",
      "Epoch 58, CIFAR-10 Batch 2:  Cost: 0.0195, Accuracy: 0.6990  \n",
      "Epoch 58, CIFAR-10 Batch 3:  Cost: 0.0200, Accuracy: 0.6928  \n",
      "Epoch 58, CIFAR-10 Batch 4:  Cost: 0.0189, Accuracy: 0.6906  \n",
      "Epoch 58, CIFAR-10 Batch 5:  Cost: 0.0134, Accuracy: 0.6892  \n",
      "Epoch 59, CIFAR-10 Batch 1:  Cost: 0.0145, Accuracy: 0.6938  \n",
      "Epoch 59, CIFAR-10 Batch 2:  Cost: 0.0151, Accuracy: 0.6958  \n",
      "Epoch 59, CIFAR-10 Batch 3:  Cost: 0.0128, Accuracy: 0.6940  \n",
      "Epoch 59, CIFAR-10 Batch 4:  Cost: 0.0135, Accuracy: 0.6942  \n",
      "Epoch 59, CIFAR-10 Batch 5:  Cost: 0.0153, Accuracy: 0.6950  \n",
      "Epoch 60, CIFAR-10 Batch 1:  Cost: 0.0202, Accuracy: 0.6972  \n",
      "Epoch 60, CIFAR-10 Batch 2:  Cost: 0.0159, Accuracy: 0.6918  \n",
      "Epoch 60, CIFAR-10 Batch 3:  Cost: 0.0120, Accuracy: 0.6924  \n",
      "Epoch 60, CIFAR-10 Batch 4:  Cost: 0.0174, Accuracy: 0.6874  \n",
      "Epoch 60, CIFAR-10 Batch 5:  Cost: 0.0135, Accuracy: 0.6896  \n"
     ]
    }
   ],
   "source": [
    "\"\"\"\n",
    "DON'T MODIFY ANYTHING IN THIS CELL\n",
    "\"\"\"\n",
    "save_model_path = './image_classification'\n",
    "\n",
    "print('Training...')\n",
    "with tf.Session() as sess:\n",
    "    # Initializing the variables\n",
    "    sess.run(tf.global_variables_initializer())\n",
    "    \n",
    "    # Training cycle\n",
    "    for epoch in range(epochs):\n",
    "        # Loop over all batches\n",
    "        n_batches = 5\n",
    "        for batch_i in range(1, n_batches + 1):\n",
    "            for batch_features, batch_labels in helper.load_preprocess_training_batch(batch_i, batch_size):\n",
    "                train_neural_network(sess, optimizer, keep_probability, batch_features, batch_labels)\n",
    "            print('Epoch {:>2}, CIFAR-10 Batch {}:  '.format(epoch + 1, batch_i), end='')\n",
    "            print_stats(sess, batch_features, batch_labels, cost, accuracy)\n",
    "            \n",
    "    # Save Model\n",
    "    saver = tf.train.Saver()\n",
    "    save_path = saver.save(sess, save_model_path)"
   ]
  },
  {
   "cell_type": "markdown",
   "metadata": {
    "deletable": true,
    "editable": true
   },
   "source": [
    "# Checkpoint\n",
    "The model has been saved to disk.\n",
    "## Test Model\n",
    "Test your model against the test dataset.  This will be your final accuracy. You should have an accuracy greater than 50%. If you don't, keep tweaking the model architecture and parameters."
   ]
  },
  {
   "cell_type": "code",
   "execution_count": 43,
   "metadata": {
    "collapsed": false,
    "deletable": true,
    "editable": true
   },
   "outputs": [
    {
     "name": "stdout",
     "output_type": "stream",
     "text": [
      "Testing Accuracy: 0.6889418661594391\n",
      "\n"
     ]
    },
    {
     "data": {
      "image/png": "[encoded data removed]",
      "text/plain": [
       "<matplotlib.figure.Figure at 0x7f4838255518>"
      ]
     },
     "metadata": {
      "image/png": {
       "height": 319,
       "width": 355
      }
     },
     "output_type": "display_data"
    }
   ],
   "source": [
    "\"\"\"\n",
    "DON'T MODIFY ANYTHING IN THIS CELL\n",
    "\"\"\"\n",
    "%matplotlib inline\n",
    "%config InlineBackend.figure_format = 'retina'\n",
    "\n",
    "import tensorflow as tf\n",
    "import pickle\n",
    "import helper\n",
    "import random\n",
    "\n",
    "# Set batch size if not already set\n",
    "try:\n",
    "    if batch_size:\n",
    "        pass\n",
    "except NameError:\n",
    "    batch_size = 64\n",
    "\n",
    "save_model_path = './image_classification'\n",
    "n_samples = 4\n",
    "top_n_predictions = 3\n",
    "\n",
    "def test_model():\n",
    "    \"\"\"\n",
    "    Test the saved model against the test dataset\n",
    "    \"\"\"\n",
    "\n",
    "    test_features, test_labels = pickle.load(open('preprocess_training.p', mode='rb'))\n",
    "    loaded_graph = tf.Graph()\n",
    "\n",
    "    with tf.Session(graph=loaded_graph) as sess:\n",
    "        # Load model\n",
    "        loader = tf.train.import_meta_graph(save_model_path + '.meta')\n",
    "        loader.restore(sess, save_model_path)\n",
    "\n",
    "        # Get Tensors from loaded model\n",
    "        loaded_x = loaded_graph.get_tensor_by_name('x:0')\n",
    "        loaded_y = loaded_graph.get_tensor_by_name('y:0')\n",
    "        loaded_keep_prob = loaded_graph.get_tensor_by_name('keep_prob:0')\n",
    "        loaded_logits = loaded_graph.get_tensor_by_name('logits:0')\n",
    "        loaded_acc = loaded_graph.get_tensor_by_name('accuracy:0')\n",
    "        \n",
    "        # Get accuracy in batches for memory limitations\n",
    "        test_batch_acc_total = 0\n",
    "        test_batch_count = 0\n",
    "        \n",
    "        for train_feature_batch, train_label_batch in helper.batch_features_labels(test_features, test_labels, batch_size):\n",
    "            test_batch_acc_total += sess.run(\n",
    "                loaded_acc,\n",
    "                feed_dict={loaded_x: train_feature_batch, loaded_y: train_label_batch, loaded_keep_prob: 1.0})\n",
    "            test_batch_count += 1\n",
    "\n",
    "        print('Testing Accuracy: {}\\n'.format(test_batch_acc_total/test_batch_count))\n",
    "\n",
    "        # Print Random Samples\n",
    "        random_test_features, random_test_labels = tuple(zip(*random.sample(list(zip(test_features, test_labels)), n_samples)))\n",
    "        random_test_predictions = sess.run(\n",
    "            tf.nn.top_k(tf.nn.softmax(loaded_logits), top_n_predictions),\n",
    "            feed_dict={loaded_x: random_test_features, loaded_y: random_test_labels, loaded_keep_prob: 1.0})\n",
    "        helper.display_image_predictions(random_test_features, random_test_labels, random_test_predictions)\n",
    "\n",
    "\n",
    "test_model()"
   ]
  },
  {
   "cell_type": "markdown",
   "metadata": {
    "deletable": true,
    "editable": true
   },
   "source": [
    "## Why 50-70% Accuracy?\n",
    "You might be wondering why you can't get an accuracy any higher. First things first, 50% isn't bad for a simple CNN.  Pure guessing would get you 10% accuracy. However, you might notice people are getting scores [well above 70%](http://rodrigob.github.io/are_we_there_yet/build/classification_datasets_results.html#43494641522d3130).  That's because we haven't taught you all there is to know about neural networks. We still need to cover a few more techniques.\n",
    "## Submitting This Project\n",
    "When submitting this project, make sure to run all the cells before saving the notebook.  Save the notebook file as \"dlnd_image_classification.ipynb\" and save it as a HTML file under \"File\" -> \"Download as\".  Include the \"helper.py\" and \"problem_unittests.py\" files in your submission."
   ]
  }
 ],
 "metadata": {
  "kernelspec": {
   "display_name": "Python 3",
   "language": "python",
   "name": "python3"
  },
  "language_info": {
   "codemirror_mode": {
    "name": "ipython",
    "version": 3
   },
   "file_extension": ".py",
   "mimetype": "text/x-python",
   "name": "python",
   "nbconvert_exporter": "python",
   "pygments_lexer": "ipython3",
   "version": "3.6.0"
  }
 },
 "nbformat": 4,
 "nbformat_minor": 0
}
